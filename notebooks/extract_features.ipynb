{
 "cells": [
  {
   "cell_type": "code",
   "execution_count": 1,
   "metadata": {},
   "outputs": [],
   "source": [
    "# Importations\n",
    "import os\n",
    "import pandas as pd\n",
    "from tqdm import tqdm\n",
    "\n",
    "from tilingtool.core import histo\n",
    "from tilingtool.filters.matter_detection import BUNet\n",
    "from tilingtool.extractors import ResNet50Keras\n",
    "\n",
    "from histo_starterkit.constants import DF_PATH, SLIDE_PATH\n",
    "from histo_starterkit.utils import load_slide\n",
    "from histo_starterkit.utils import save_mask, save_features, save_metadata"
   ]
  },
  {
   "cell_type": "code",
   "execution_count": 2,
   "metadata": {},
   "outputs": [
    {
     "name": "stderr",
     "output_type": "stream",
     "text": [
      "2021-12-12 20:20:51.248 | INFO     | tilingtool.filters.matter_detection.bunet:__init__:42 - Loading BUNet from classic-algo's hub.\n",
      "2021-12-12 20:20:57.428 | INFO     | tilingtool.extractors.resnet50_keras:__init__:37 - Loading ResNet50Keras from classic-algo's hub.\n"
     ]
    },
    {
     "name": "stdout",
     "output_type": "stream",
     "text": [
      "tumor_088\n",
      "/STORAGE/data/Camelyon_clean/slides/tumor_088.tif\n"
     ]
    },
    {
     "name": "stderr",
     "output_type": "stream",
     "text": [
      "/home/rghermi/.conda/envs/brats/lib/python3.7/site-packages/torch/nn/functional.py:718: UserWarning: Named tensors and all their associated APIs are an experimental feature and subject to change. Please do not use them for anything important until they are released as stable. (Triggered internally at  /opt/conda/conda-bld/pytorch_1623448265233/work/c10/core/TensorImpl.h:1156.)\n",
      "  return torch.max_pool2d(input, kernel_size, stride, padding, dilation, ceil_mode)\n"
     ]
    },
    {
     "name": "stdout",
     "output_type": "stream",
     "text": [
      "(5600, 11520) (10781, 2051) 17 224\n"
     ]
    }
   ],
   "source": [
    "# Import data\n",
    "df = pd.read_csv(DF_PATH)\n",
    "df = df[:1]\n",
    "\n",
    "# Prepare models\n",
    "matter_detector = BUNet()\n",
    "extractor = ResNet50Keras()\n",
    "\n",
    "# Extraction\n",
    "for i in tqdm(range(len(df)), total=len(df)):\n",
    "    row = df.iloc[i]\n",
    "    slide_name =row.slide_name\n",
    "\n",
    "    try:\n",
    "        filename = '.'.join([slide_name, 'tif'])\n",
    "        slide_path = os.path.join(SLIDE_PATH, filename)\n",
    "        slide = load_slide(slide_path)\n",
    "        \n",
    "        mask, features, metadata = histo.extract(\n",
    "            slide,\n",
    "            matter_detector,\n",
    "            extractor,\n",
    "        )\n",
    "\n",
    "        save_mask(slide_name, mask)\n",
    "        save_features(slide_name, features)\n",
    "        save_metadata(slide_name, metadata)\n",
    "    except:\n",
    "        print('Error with slide:', slide_name)"
   ]
  },
  {
   "cell_type": "code",
   "execution_count": null,
   "metadata": {},
   "outputs": [],
   "source": []
  }
 ],
 "metadata": {
  "kernelspec": {
   "display_name": "brats",
   "language": "python",
   "name": "brats"
  },
  "language_info": {
   "codemirror_mode": {
    "name": "ipython",
    "version": 3
   },
   "file_extension": ".py",
   "mimetype": "text/x-python",
   "name": "python",
   "nbconvert_exporter": "python",
   "pygments_lexer": "ipython3",
   "version": "3.7.9"
  }
 },
 "nbformat": 4,
 "nbformat_minor": 4
}
