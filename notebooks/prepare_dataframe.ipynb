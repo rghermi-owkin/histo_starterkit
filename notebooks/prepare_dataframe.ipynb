{
 "cells": [
  {
   "cell_type": "code",
   "execution_count": 2,
   "metadata": {},
   "outputs": [],
   "source": [
    "# Importations\n",
    "import os\n",
    "import pandas as pd\n",
    "import matplotlib.pyplot as plt\n",
    "import seaborn as sns\n",
    "\n",
    "from histo_starterkit.constants import DATA_PATH"
   ]
  },
  {
   "cell_type": "code",
   "execution_count": 4,
   "metadata": {},
   "outputs": [],
   "source": [
    "save_path = '../data/'"
   ]
  },
  {
   "cell_type": "code",
   "execution_count": 5,
   "metadata": {},
   "outputs": [
    {
     "name": "stdout",
     "output_type": "stream",
     "text": [
      "  slide_name  target\n",
      "0  tumor_088       1\n",
      "1  tumor_101       1\n",
      "2  Tumor_008       1\n",
      "3  tumor_106       1\n",
      "4  tumor_081       1\n",
      "  slide_name  target\n",
      "0   Test_001       1\n",
      "1   Test_002       1\n",
      "2   Test_003       0\n",
      "3   Test_004       1\n",
      "4   Test_005       0\n"
     ]
    }
   ],
   "source": [
    "# Create DataFrames\n",
    "df_train = pd.read_csv(os.path.join(DATA_PATH, 'train_data_index.csv'))\n",
    "df_train = df_train.rename(columns={'Unnamed: 0':'slide_name'})\n",
    "df_train['target'] = df_train.target.apply(lambda x:1 if x == 'Tumor' else 0)\n",
    "df_train.to_csv(os.path.join(save_path, 'data_train.csv'), index=False)\n",
    "print(df_train.head())\n",
    "\n",
    "df_test = pd.read_csv(os.path.join(DATA_PATH, 'test_data_index.csv'))\n",
    "df_test = df_test.rename(columns={'Unnamed: 0':'slide_name'})\n",
    "df_test['target'] = df_test.target.apply(lambda x:1 if x == 'Tumor' else 0)\n",
    "df_test.to_csv(os.path.join(save_path, 'data_test.csv'), index=False)\n",
    "print(df_test.head())"
   ]
  },
  {
   "cell_type": "code",
   "execution_count": 6,
   "metadata": {},
   "outputs": [
    {
     "name": "stdout",
     "output_type": "stream",
     "text": [
      "Number of training slides: 269\n"
     ]
    },
    {
     "data": {
      "image/png": "[encoded data removed]",
      "text/plain": [
       "<Figure size 432x288 with 1 Axes>"
      ]
     },
     "metadata": {
      "needs_background": "light"
     },
     "output_type": "display_data"
    },
    {
     "name": "stdout",
     "output_type": "stream",
     "text": [
      "Number of test slides: 130\n"
     ]
    },
    {
     "data": {
      "image/png": "[encoded data removed]",
      "text/plain": [
       "<Figure size 432x288 with 1 Axes>"
      ]
     },
     "metadata": {
      "needs_background": "light"
     },
     "output_type": "display_data"
    }
   ],
   "source": [
    "# Data exploration\n",
    "print('Number of training slides:', len(df_train))\n",
    "\n",
    "plt.figure(figsize=(6, 4))\n",
    "sns.countplot(x='target', data=df_train)\n",
    "plt.title('Training data label distribution')\n",
    "plt.show()\n",
    "\n",
    "print('Number of test slides:', len(df_test))\n",
    "\n",
    "plt.figure(figsize=(6, 4))\n",
    "sns.countplot(x='target', data=df_test)\n",
    "plt.title('Test data label distribution')\n",
    "plt.show()"
   ]
  },
  {
   "cell_type": "code",
   "execution_count": null,
   "metadata": {},
   "outputs": [],
   "source": []
  }
 ],
 "metadata": {
  "kernelspec": {
   "display_name": "brats",
   "language": "python",
   "name": "brats"
  },
  "language_info": {
   "codemirror_mode": {
    "name": "ipython",
    "version": 3
   },
   "file_extension": ".py",
   "mimetype": "text/x-python",
   "name": "python",
   "nbconvert_exporter": "python",
   "pygments_lexer": "ipython3",
   "version": "3.7.9"
  }
 },
 "nbformat": 4,
 "nbformat_minor": 2
}
