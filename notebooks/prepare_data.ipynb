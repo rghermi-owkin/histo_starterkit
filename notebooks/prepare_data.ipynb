{
 "cells": [
  {
   "cell_type": "code",
   "execution_count": 1,
   "metadata": {},
   "outputs": [],
   "source": [
    "import os\n",
    "import pandas as pd\n",
    "\n",
    "from histo_starterkit.constants import DF_TRAIN_PATH, DF_TEST_PATH, DF_PATH"
   ]
  },
  {
   "cell_type": "code",
   "execution_count": 2,
   "metadata": {},
   "outputs": [],
   "source": [
    "df_train = pd.read_csv('/STORAGE/data/Camelyon_clean/train_data_index.csv')\n",
    "df_train = df_train.rename(columns={'Unnamed: 0':'slide_name'})\n",
    "df_train['target'] = df_train.target.apply(lambda x:1 if x == 'Tumor' else 0)\n",
    "\n",
    "df_test = pd.read_csv('/STORAGE/data/Camelyon_clean/test_data_index.csv')\n",
    "df_test = df_test.rename(columns={'Unnamed: 0':'slide_name'})\n",
    "df_test['target'] = df_test.target.apply(lambda x:1 if x == 'Tumor' else 0)\n",
    "\n",
    "df_train.to_csv(DF_TRAIN_PATH, index=False)\n",
    "df_test.to_csv(DF_TEST_PATH, index=False)\n",
    "\n",
    "df_train['train'] = [1]*len(df_train)\n",
    "df_test['train'] = [0]*len(df_test)\n",
    "df = pd.concat([df_train, df_test])\n",
    "\n",
    "df.to_csv(DF_PATH, index=False)"
   ]
  },
  {
   "cell_type": "code",
   "execution_count": null,
   "metadata": {},
   "outputs": [],
   "source": []
  }
 ],
 "metadata": {
  "kernelspec": {
   "display_name": "brats",
   "language": "python",
   "name": "brats"
  },
  "language_info": {
   "codemirror_mode": {
    "name": "ipython",
    "version": 3
   },
   "file_extension": ".py",
   "mimetype": "text/x-python",
   "name": "python",
   "nbconvert_exporter": "python",
   "pygments_lexer": "ipython3",
   "version": "3.7.9"
  }
 },
 "nbformat": 4,
 "nbformat_minor": 4
}
